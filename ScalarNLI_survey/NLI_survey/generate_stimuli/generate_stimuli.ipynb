{
 "cells": [
  {
   "cell_type": "code",
   "execution_count": 15,
   "metadata": {},
   "outputs": [],
   "source": [
    "import pandas as pd "
   ]
  },
  {
   "cell_type": "code",
   "execution_count": 16,
   "metadata": {},
   "outputs": [],
   "source": [
    "train_data = pd.read_csv('train_data.csv', sep=';').sample(frac=1)\n",
    "test_data = pd.read_csv('test_data.csv', sep=';').sample(frac=1)\n",
    "mnli_data = pd.read_csv('same_labels.csv').sample(frac=1)"
   ]
  },
  {
   "cell_type": "code",
   "execution_count": 17,
   "metadata": {},
   "outputs": [],
   "source": [
    "def add_data(dataframe):\n",
    "    for i in range(len(dataframe)):\n",
    "        if dataframe.premise[i][0] == ' ':\n",
    "            dataframe.premise[i] = dataframe.premise[i][1:]\n",
    "        \n",
    "        if dataframe.context[i][-1] == '.':\n",
    "            dataframe.premise[i] = dataframe.context[i] + ' ' + dataframe.premise[i]\n",
    "        else:\n",
    "            dataframe.premise[i] = dataframe.context[i] + '. ' + dataframe.premise[i]\n",
    "    return dataframe\n",
    "train_data = add_data(train_data)\n",
    "test_data = add_data(test_data)"
   ]
  },
  {
   "cell_type": "code",
   "execution_count": 18,
   "metadata": {},
   "outputs": [],
   "source": [
    "for i in range(len(mnli_data)):\n",
    "    mnli_data['premise'][i] = mnli_data['premise'][i].translate(str.maketrans('', '', '\\\"\\''))\n",
    "    mnli_data['hypothesis'][i] = mnli_data['hypothesis'][i].translate(str.maketrans('', '', '\\\"\\''))"
   ]
  },
  {
   "cell_type": "code",
   "execution_count": 19,
   "metadata": {},
   "outputs": [],
   "source": [
    "num_stims = 80\n",
    "examples_per_stim = 25\n",
    "\n",
    "stimuli = \"var stims = [];\\n\"\n",
    "for stim in range(int(num_stims/2)):   \n",
    "    stimuli = stimuli + 'stims['+str(stim)+'] = ['\n",
    "    examples = []\n",
    "    for i in range(examples_per_stim):\n",
    "        if i >=20:\n",
    "            sample = mnli_data.iloc[(stim * 5) + i - 20]\n",
    "        else:\n",
    "            sample = train_data.iloc[(stim * 20) + i]\n",
    "        example = \"{\" + '\\\"premise\\\":'+ \"\\\"\" + sample['premise'] + \"\\\"\" + ',' +  '\\\"hypothesis\\\":' + \"\\\"\" + sample['hypothesis'] + \"\\\"\"+ \"}\" \n",
    "        examples.append(example)\n",
    "        \n",
    "    stimuli = stimuli + ', '.join(examples) + '];\\n'\n",
    "    \n",
    "for stim in range(int(num_stims/2)):   \n",
    "    stimuli = stimuli + 'stims['+str(40 + stim)+'] = ['\n",
    "    examples = []\n",
    "    for i in range(examples_per_stim):\n",
    "        if i >=20:\n",
    "            sample = mnli_data.iloc[200 + (stim * 5) + i - 20]\n",
    "        else:\n",
    "            sample = test_data.iloc[(stim * 20) + i]\n",
    "        example =\"{\" + '\\\"premise\\\":' + '\\\"'+ sample['premise'] + \"\\\"\" + ',' +  '\\\"hypothesis\\\":' + \"\\\"\" + sample['hypothesis'] + \"\\\"\" + \"}\" \n",
    "        examples.append(example)\n",
    "        \n",
    "    stimuli = stimuli + ', '.join(examples) + '];\\n'"
   ]
  },
  {
   "cell_type": "code",
   "execution_count": 20,
   "metadata": {},
   "outputs": [],
   "source": [
    "with open ('stimuli.js', 'w', encoding='utf-8') as file:\n",
    "    file.write(stimuli)\n",
    "file.close()"
   ]
  }
 ],
 "metadata": {
  "kernelspec": {
   "display_name": "Python 3",
   "language": "python",
   "name": "python3"
  },
  "language_info": {
   "codemirror_mode": {
    "name": "ipython",
    "version": 3
   },
   "file_extension": ".py",
   "mimetype": "text/x-python",
   "name": "python",
   "nbconvert_exporter": "python",
   "pygments_lexer": "ipython3",
   "version": "3.9.12"
  },
  "orig_nbformat": 4,
  "vscode": {
   "interpreter": {
    "hash": "7ddf133b4eda059986521323f3292d266b4e97de12a5e96c4c9cf48956d966ac"
   }
  }
 },
 "nbformat": 4,
 "nbformat_minor": 2
}
